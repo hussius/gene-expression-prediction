{
 "cells": [
  {
   "cell_type": "code",
   "execution_count": 87,
   "metadata": {
    "collapsed": false
   },
   "outputs": [],
   "source": [
    "import pandas as pd\n",
    "import matplotlib.pyplot as plt  \n",
    "import seaborn as sns\n",
    "import numpy as np\n",
    "from sklearn import cross_validation, ensemble, linear_model\n",
    "%matplotlib inline"
   ]
  },
  {
   "cell_type": "markdown",
   "metadata": {},
   "source": [
    "<h2>Predicting relative gene expression from other genomic features</h2>\n",
    "\n",
    "We will look at a data set that was compiled in order to understand which factors determine relative gene expression in developing mouse cortex and spinal cord. How the data set was compiled is a different story ...\n",
    "\n",
    "Below, we will try to see how well we can predict the relative gene expression (expressed as log2 fold change between spinal cord and cortex), and which features turn out to be the most informative for that purpose.\n",
    "\n",
    "<h4>Data preparation</h4>\n",
    "\n",
    "Let's begin by loading the data into a data frame!"
   ]
  },
  {
   "cell_type": "code",
   "execution_count": 19,
   "metadata": {
    "collapsed": false
   },
   "outputs": [],
   "source": [
    "data = pd.read_csv(\"gene_scores.csv\", index_col=0)"
   ]
  },
  {
   "cell_type": "markdown",
   "metadata": {},
   "source": [
    "Check what the data look like, and how big the data frame is."
   ]
  },
  {
   "cell_type": "code",
   "execution_count": 20,
   "metadata": {
    "collapsed": false
   },
   "outputs": [
    {
     "name": "stdout",
     "output_type": "stream",
     "text": [
      "                         ctx_dhs  ctx_footprint_no  ctx_sox2no  ctx_sox2score  \\\n",
      "ENSMUSG00000046593   2355.995772          0.816579    0.000000       0.000000   \n",
      "ENSMUSG00000037972   6248.353861          1.257967    1.579189      37.697030   \n",
      "ENSMUSG00000037973   2678.187637          0.000000    1.214106      21.523723   \n",
      "ENSMUSG00000053216  14688.977720         33.567085    5.317266     135.139718   \n",
      "ENSMUSG00000029510   6050.044463          3.454355    1.560680      15.087589   \n",
      "\n",
      "                         hox        lhx    log2fc    maxcons  meancons  \\\n",
      "ENSMUSG00000046593  0.241369   0.477784 -0.125293  14.294184  0.699185   \n",
      "ENSMUSG00000037972  0.447913   0.000000  0.119927  23.306562  0.911032   \n",
      "ENSMUSG00000037973  0.452227  10.677599 -1.029347  23.738959  3.452806   \n",
      "ENSMUSG00000053216  0.326184   4.992649 -0.625700  64.571973  7.681191   \n",
      "ENSMUSG00000029510  0.000000   4.460958  0.730771  32.447952  3.736538   \n",
      "\n",
      "                          sc_dhs  sc_footprint_no  sc_sox2no  sc_sox2score  \n",
      "ENSMUSG00000046593   1721.959893         0.874426   0.000000      0.000000  \n",
      "ENSMUSG00000037972   4697.475729         0.326459   0.579189     20.850813  \n",
      "ENSMUSG00000037973   1419.974254         0.000000   0.000000      0.000000  \n",
      "ENSMUSG00000053216  12665.480738        27.624816   2.326642     33.012300  \n",
      "ENSMUSG00000029510   5181.369592         4.487705   0.000000      0.000000  \n",
      "(4540, 13)\n"
     ]
    }
   ],
   "source": [
    "print(data.head())\n",
    "print(data.shape)"
   ]
  },
  {
   "cell_type": "markdown",
   "metadata": {},
   "source": [
    "So we have 4540 examples (genes) and 13 values for each - 12 \"features\" and one \"target\" (the log2 fold change for each gene in spinal cord vs. cortex). \n",
    "\n",
    "<h4>What do the numbers mean? (skip if not interested)</h4>\n",
    "\n",
    "It doesn't really matter for the rest of the presentation where the values come from, but if you are interested, read on (otherwise skip to \"Partition into sub-datasets\"). \n",
    "\n",
    "The values of the features are weighted sums of various scores that have been calculated for predicted enhancers surrounding a gene. An enhancer close to the gene will contribute a larger fraction of its scores to the feature than one that is further away. Within each enhancer, we have calculated the following things:\n",
    "\n",
    "- ctx_dhs: The maximal value of a \"chromatin openness\" score from DNase-seq peak calling performed in cortex (with the DFilter package).\n",
    "- sc_dhs: -\"- for spinal cord\n",
    "- ctx_footprint_no: Sum of enrichment scores of DNase footprints in cortex (calculated by PyDNAse).\n",
    "- sc_footprint_no: -\"- for spinal cord\n",
    "- ctx_sox2no: Number of Sox2 ChIP-seq peaks in the enhancer in cortex (defined by SISSRs)\n",
    "- sc_sox2no: -\"- for spinal cord\n",
    "- ctx_sox2score: Sum of SISSRs scores for the Sox2 ChIP-seq peaks in cortex\n",
    "- sc_sox2score: -\"- for spinal cord \n",
    "- hox and lhx: The number of DNA motif matches in the enhancer for a Hox (or Lhx) motif, as defined by HOMER.\n",
    "- log2fc: The log2 expression fold change (spinal cord/cortex) as defined by DESeq2.\n",
    "- meancons and maxcons: The mean and maximum, respectively, PhyloP score for the enhancer based on a 46-way multiple alignment of vertebrates.\n",
    "\n",
    "<h4>Partition into sub-datasets</h4>\n",
    "\n",
    "Now let's construct the training, validation and test sets. The thing that we want to predict is in the column called log2fc, so let's pull that out into its own variable y. This will be the target for the learning algorithm."
   ]
  },
  {
   "cell_type": "code",
   "execution_count": 23,
   "metadata": {
    "collapsed": false
   },
   "outputs": [],
   "source": [
    "y = data['log2fc']\n",
    "X = data.drop(['log2fc'],1)"
   ]
  },
  {
   "cell_type": "markdown",
   "metadata": {},
   "source": [
    "Check that they came out right."
   ]
  },
  {
   "cell_type": "code",
   "execution_count": 24,
   "metadata": {
    "collapsed": false
   },
   "outputs": [
    {
     "name": "stdout",
     "output_type": "stream",
     "text": [
      "ENSMUSG00000046593   -0.125293\n",
      "ENSMUSG00000037972    0.119927\n",
      "ENSMUSG00000037973   -1.029347\n",
      "ENSMUSG00000053216   -0.625700\n",
      "ENSMUSG00000029510    0.730771\n",
      "Name: log2fc, dtype: float64\n",
      "                         ctx_dhs  ctx_footprint_no  ctx_sox2no  ctx_sox2score  \\\n",
      "ENSMUSG00000046593   2355.995772          0.816579    0.000000       0.000000   \n",
      "ENSMUSG00000037972   6248.353861          1.257967    1.579189      37.697030   \n",
      "ENSMUSG00000037973   2678.187637          0.000000    1.214106      21.523723   \n",
      "ENSMUSG00000053216  14688.977720         33.567085    5.317266     135.139718   \n",
      "ENSMUSG00000029510   6050.044463          3.454355    1.560680      15.087589   \n",
      "\n",
      "                         hox        lhx    maxcons  meancons        sc_dhs  \\\n",
      "ENSMUSG00000046593  0.241369   0.477784  14.294184  0.699185   1721.959893   \n",
      "ENSMUSG00000037972  0.447913   0.000000  23.306562  0.911032   4697.475729   \n",
      "ENSMUSG00000037973  0.452227  10.677599  23.738959  3.452806   1419.974254   \n",
      "ENSMUSG00000053216  0.326184   4.992649  64.571973  7.681191  12665.480738   \n",
      "ENSMUSG00000029510  0.000000   4.460958  32.447952  3.736538   5181.369592   \n",
      "\n",
      "                    sc_footprint_no  sc_sox2no  sc_sox2score  \n",
      "ENSMUSG00000046593         0.874426   0.000000      0.000000  \n",
      "ENSMUSG00000037972         0.326459   0.579189     20.850813  \n",
      "ENSMUSG00000037973         0.000000   0.000000      0.000000  \n",
      "ENSMUSG00000053216        27.624816   2.326642     33.012300  \n",
      "ENSMUSG00000029510         4.487705   0.000000      0.000000  \n",
      "(4540,)\n",
      "(4540, 12)\n"
     ]
    }
   ],
   "source": [
    "print(y.head())\n",
    "print(X.head())\n",
    "print(y.shape)\n",
    "print(X.shape)"
   ]
  },
  {
   "cell_type": "markdown",
   "metadata": {},
   "source": [
    "Divide these into a training set and a test set."
   ]
  },
  {
   "cell_type": "code",
   "execution_count": 28,
   "metadata": {
    "collapsed": false
   },
   "outputs": [],
   "source": [
    "X_train, X_test, y_train, y_test = cross_validation.train_test_split(X, y, test_size=0.3, random_state=42)"
   ]
  },
  {
   "cell_type": "markdown",
   "metadata": {},
   "source": [
    "In turn, we can divide this \"training set\" into a training set and a validation set (which we will use to evaluate each predictive model)."
   ]
  },
  {
   "cell_type": "code",
   "execution_count": 29,
   "metadata": {
    "collapsed": true
   },
   "outputs": [],
   "source": [
    "X_tr, X_val, y_tr, y_val = cross_validation.train_test_split(X_train, y_train, test_size=0.3, random_state=53)"
   ]
  },
  {
   "cell_type": "markdown",
   "metadata": {},
   "source": [
    "How big are these different data sets now?"
   ]
  },
  {
   "cell_type": "code",
   "execution_count": 32,
   "metadata": {
    "collapsed": false
   },
   "outputs": [
    {
     "name": "stdout",
     "output_type": "stream",
     "text": [
      "Training:(2224, 12)\n",
      "Validation:(954, 12)\n",
      "Test:(1362, 12)\n"
     ]
    }
   ],
   "source": [
    "print(\"Training:\" + str(X_tr.shape))\n",
    "print(\"Validation:\" + str(X_val.shape))\n",
    "print(\"Test:\" + str(X_test.shape))"
   ]
  },
  {
   "cell_type": "markdown",
   "metadata": {},
   "source": [
    "<h4>Correlation heat map</h4>\n",
    "\n",
    "Are there any obvious correlations between the features?"
   ]
  },
  {
   "cell_type": "code",
   "execution_count": 36,
   "metadata": {
    "collapsed": false
   },
   "outputs": [
    {
     "data": {
      "text/plain": [
       "<matplotlib.axes._subplots.AxesSubplot at 0x10e2a9250>"
      ]
     },
     "execution_count": 36,
     "metadata": {},
     "output_type": "execute_result"
    },
    {
     "data": {
      "image/png": "[encoded data removed]",
      "text/plain": [
       "<matplotlib.figure.Figure at 0x10e2bf090>"
      ]
     },
     "metadata": {},
     "output_type": "display_data"
    }
   ],
   "source": [
    "corrs = X.corr()\n",
    "sns.heatmap(corrs)"
   ]
  },
  {
   "cell_type": "markdown",
   "metadata": {},
   "source": [
    "Unsurprisingly, the mean and maximum conservation scores are highly correlated, as are the Sox2 counts and scores. In fact this redundancy in features should make us think about dropping a few of them.\n",
    "\n",
    "<h4>Random forest regression</h4>\n",
    "\n",
    "For now, though, let's just throw the training set into a random forest regressor (since the target is a continuous value, we use regression rather than classification, which would have been appropriate for a small, discrete set of target values).\n",
    "\n",
    "Explaining how a random forest works is beyond the scope of this presentation, but for those who care, we choose to build 500 trees with a maximal depth of 5, and restrict the number of features in each tree to a maximum of sqrt(12). We set the oob_score (Out Of Bag score) to True, so we get an estimate of the forest's performance on unseen data. "
   ]
  },
  {
   "cell_type": "code",
   "execution_count": 38,
   "metadata": {
    "collapsed": false
   },
   "outputs": [],
   "source": [
    "rf = ensemble.RandomForestRegressor(n_estimators=500, oob_score=True, max_features='sqrt', max_depth=5)"
   ]
  },
  {
   "cell_type": "code",
   "execution_count": 39,
   "metadata": {
    "collapsed": true
   },
   "outputs": [],
   "source": [
    "# Build a random forest model for the training set\n",
    "rfit = rf.fit(X_tr, y_tr)"
   ]
  },
  {
   "cell_type": "markdown",
   "metadata": {},
   "source": [
    "<h4>Check performance and potential overfitting</h4>"
   ]
  },
  {
   "cell_type": "code",
   "execution_count": 50,
   "metadata": {
    "collapsed": false
   },
   "outputs": [
    {
     "name": "stdout",
     "output_type": "stream",
     "text": [
      "Training set variance score (R2): 0.29\n",
      "OOB set variance score (R2): 0.14\n",
      "Validation set variance score (R2): 0.17\n"
     ]
    }
   ],
   "source": [
    "print('Training set variance score (R2): %.2f' % rfit.score(X_tr, y_tr))\n",
    "print('OOB set variance score (R2): %.2f' % rfit.oob_score_)\n",
    "print('Validation set variance score (R2): %.2f' % rfit.score(X_val, y_val))"
   ]
  },
  {
   "cell_type": "markdown",
   "metadata": {},
   "source": [
    "<h4>Feature importance</h4>\n",
    "\n",
    "We can also get a measure of how important each feature is for prediction."
   ]
  },
  {
   "cell_type": "code",
   "execution_count": 70,
   "metadata": {
    "collapsed": true
   },
   "outputs": [],
   "source": [
    "def plot_feat_imp(model, feature_names):\n",
    "    feature_importance = model.feature_importances_\n",
    "    # make importances relative to max importance\n",
    "    feature_importance = 100.0 * (feature_importance / feature_importance.max())\n",
    "    sorted_idx = np.argsort(feature_importance)\n",
    "    pos = np.arange(sorted_idx.shape[0]) + .5\n",
    "    plt.subplot(1, 2, 2)\n",
    "    plt.barh(pos, feature_importance[sorted_idx], align='center')\n",
    "    plt.yticks(pos, feature_names[sorted_idx])\n",
    "    plt.xlabel('Relative Importance')\n",
    "    plt.title('Variable Importance')\n",
    "    plt.show()"
   ]
  },
  {
   "cell_type": "code",
   "execution_count": 72,
   "metadata": {
    "collapsed": false,
    "scrolled": true
   },
   "outputs": [
    {
     "data": {
      "image/png": "[encoded data removed]",
      "text/plain": [
       "<matplotlib.figure.Figure at 0x110be5d50>"
      ]
     },
     "metadata": {},
     "output_type": "display_data"
    }
   ],
   "source": [
    "plot_feat_imp(rfit, X_tr.columns)"
   ]
  },
  {
   "cell_type": "markdown",
   "metadata": {},
   "source": [
    "<h4>Linear regression</h4>\n",
    "\n",
    "As mentioned above, this dataset contains some highly correlated features, which makes it unlikely to be a good fit for doing linear regression. Let's try it anyway just to see what happens, but in a variant called lasso regression, which can ignore a subset of the features (there are many other variations of linear regression available)."
   ]
  },
  {
   "cell_type": "code",
   "execution_count": 92,
   "metadata": {
    "collapsed": false
   },
   "outputs": [
    {
     "name": "stdout",
     "output_type": "stream",
     "text": [
      "Training set variance score: 0.15\n",
      "Validation set variance score: 0.20\n"
     ]
    }
   ],
   "source": [
    "lm = linear_model.Lasso()\n",
    "lm.fit(X_tr, y_tr)\n",
    "print('Training set variance score: %.2f' % lm.score(X_tr, y_tr))\n",
    "print('Validation set variance score: %.2f' % lm.score(X_val, y_val))\n"
   ]
  },
  {
   "cell_type": "code",
   "execution_count": 96,
   "metadata": {
    "collapsed": false
   },
   "outputs": [
    {
     "name": "stdout",
     "output_type": "stream",
     "text": [
      "[('ctx_dhs', -0.000407192447909452), ('ctx_footprint_no', -0.0), ('ctx_sox2no', -0.0), ('ctx_sox2score', -0.0022899018920125194), ('hox', 0.0), ('lhx', 0.0), ('maxcons', 0.0), ('meancons', 0.0), ('sc_dhs', 0.00047285734963729002), ('sc_footprint_no', -0.0), ('sc_sox2no', 0.0), ('sc_sox2score', 0.0030000238503714058)]\n",
      "0.234644326222\n"
     ]
    }
   ],
   "source": [
    "print(zip(X.columns, lm.coef_))\n",
    "print(lm.intercept_)"
   ]
  },
  {
   "cell_type": "markdown",
   "metadata": {},
   "source": [
    "<h4>Gradient boosting</h4>"
   ]
  },
  {
   "cell_type": "code",
   "execution_count": 61,
   "metadata": {
    "collapsed": false
   },
   "outputs": [
    {
     "data": {
      "text/plain": [
       "GradientBoostingRegressor(alpha=0.9, init=None, learning_rate=0.01, loss='ls',\n",
       "             max_depth=5, max_features=None, max_leaf_nodes=None,\n",
       "             min_samples_leaf=1, min_samples_split=1,\n",
       "             min_weight_fraction_leaf=0.0, n_estimators=500,\n",
       "             presort='auto', random_state=None, subsample=1.0, verbose=0,\n",
       "             warm_start=False)"
      ]
     },
     "execution_count": 61,
     "metadata": {},
     "output_type": "execute_result"
    }
   ],
   "source": [
    "params = {'n_estimators': 500, 'max_depth': 5, 'min_samples_split': 1,\n",
    "          'learning_rate': 0.01, 'loss': 'ls'}\n",
    "clf = ensemble.GradientBoostingRegressor(**params)\n",
    "clf.fit(X_tr, y_tr)\n"
   ]
  },
  {
   "cell_type": "code",
   "execution_count": 75,
   "metadata": {
    "collapsed": false
   },
   "outputs": [
    {
     "name": "stdout",
     "output_type": "stream",
     "text": [
      "Training set variance score: 0.58\n",
      "Validation set variance score: 0.20\n"
     ]
    }
   ],
   "source": [
    "print('Training set variance score: %.2f' % clf.score(X_tr, y_tr))\n",
    "print('Validation set variance score: %.2f' % clf.score(X_val, y_val))"
   ]
  },
  {
   "cell_type": "code",
   "execution_count": 73,
   "metadata": {
    "collapsed": false
   },
   "outputs": [
    {
     "data": {
      "image/png": "[encoded data removed]",
      "text/plain": [
       "<matplotlib.figure.Figure at 0x1110915d0>"
      ]
     },
     "metadata": {},
     "output_type": "display_data"
    }
   ],
   "source": [
    "plot_feat_imp(clf, X_tr.columns)"
   ]
  },
  {
   "cell_type": "code",
   "execution_count": 85,
   "metadata": {
    "collapsed": false
   },
   "outputs": [
    {
     "data": {
      "text/html": [
       "<div>\n",
       "<table border=\"1\" class=\"dataframe\">\n",
       "  <thead>\n",
       "    <tr style=\"text-align: right;\">\n",
       "      <th></th>\n",
       "      <th>prediction</th>\n",
       "      <th>target</th>\n",
       "    </tr>\n",
       "  </thead>\n",
       "  <tbody>\n",
       "    <tr>\n",
       "      <th>ENSMUSG00000019929</th>\n",
       "      <td>-0.547665</td>\n",
       "      <td>4.386269</td>\n",
       "    </tr>\n",
       "    <tr>\n",
       "      <th>ENSMUSG00000021175</th>\n",
       "      <td>0.469109</td>\n",
       "      <td>-1.943973</td>\n",
       "    </tr>\n",
       "    <tr>\n",
       "      <th>ENSMUSG00000047786</th>\n",
       "      <td>-0.053523</td>\n",
       "      <td>-4.155991</td>\n",
       "    </tr>\n",
       "    <tr>\n",
       "      <th>ENSMUSG00000032370</th>\n",
       "      <td>0.064898</td>\n",
       "      <td>0.065787</td>\n",
       "    </tr>\n",
       "    <tr>\n",
       "      <th>ENSMUSG00000018507</th>\n",
       "      <td>0.030159</td>\n",
       "      <td>-0.154523</td>\n",
       "    </tr>\n",
       "  </tbody>\n",
       "</table>\n",
       "</div>"
      ],
      "text/plain": [
       "                    prediction    target\n",
       "ENSMUSG00000019929   -0.547665  4.386269\n",
       "ENSMUSG00000021175    0.469109 -1.943973\n",
       "ENSMUSG00000047786   -0.053523 -4.155991\n",
       "ENSMUSG00000032370    0.064898  0.065787\n",
       "ENSMUSG00000018507    0.030159 -0.154523"
      ]
     },
     "execution_count": 85,
     "metadata": {},
     "output_type": "execute_result"
    }
   ],
   "source": [
    "df = pd.DataFrame({'prediction':clf.predict(X_val), 'target':y_val})\n",
    "df.head()"
   ]
  },
  {
   "cell_type": "code",
   "execution_count": 84,
   "metadata": {
    "collapsed": false
   },
   "outputs": [
    {
     "data": {
      "text/plain": [
       "<seaborn.axisgrid.FacetGrid at 0x110bda990>"
      ]
     },
     "execution_count": 84,
     "metadata": {},
     "output_type": "execute_result"
    },
    {
     "data": {
      "image/png": "[encoded data removed]",
      "text/plain": [
       "<matplotlib.figure.Figure at 0x1112b4ad0>"
      ]
     },
     "metadata": {},
     "output_type": "display_data"
    }
   ],
   "source": [
    "sns.lmplot(x='prediction',y='target',data=df)"
   ]
  },
  {
   "cell_type": "markdown",
   "metadata": {},
   "source": [
    "<h4>Feature engineering</h4>"
   ]
  },
  {
   "cell_type": "markdown",
   "metadata": {},
   "source": [
    "Let's remove some redundant features and create new ones!"
   ]
  },
  {
   "cell_type": "code",
   "execution_count": 97,
   "metadata": {
    "collapsed": false
   },
   "outputs": [
    {
     "data": {
      "text/plain": [
       "Index([u'ctx_dhs', u'ctx_footprint_no', u'ctx_sox2no', u'ctx_sox2score',\n",
       "       u'hox', u'lhx', u'maxcons', u'meancons', u'sc_dhs', u'sc_footprint_no',\n",
       "       u'sc_sox2no', u'sc_sox2score'],\n",
       "      dtype='object')"
      ]
     },
     "execution_count": 97,
     "metadata": {},
     "output_type": "execute_result"
    }
   ],
   "source": [
    "X.columns"
   ]
  },
  {
   "cell_type": "code",
   "execution_count": 155,
   "metadata": {
    "collapsed": false
   },
   "outputs": [
    {
     "name": "stdout",
     "output_type": "stream",
     "text": [
      "                         ctx_dhs  ctx_sox2score       hox        lhx  \\\n",
      "ENSMUSG00000046593   2355.995772       0.000000  0.241369   0.477784   \n",
      "ENSMUSG00000037972   6248.353861      37.697030  0.447913   0.000000   \n",
      "ENSMUSG00000037973   2678.187637      21.523723  0.452227  10.677599   \n",
      "ENSMUSG00000053216  14688.977720     135.139718  0.326184   4.992649   \n",
      "ENSMUSG00000029510   6050.044463      15.087589  0.000000   4.460958   \n",
      "\n",
      "                    meancons        sc_dhs  sc_sox2score  \n",
      "ENSMUSG00000046593  0.699185   1721.959893      0.000000  \n",
      "ENSMUSG00000037972  0.911032   4697.475729     20.850813  \n",
      "ENSMUSG00000037973  3.452806   1419.974254      0.000000  \n",
      "ENSMUSG00000053216  7.681191  12665.480738     33.012300  \n",
      "ENSMUSG00000029510  3.736538   5181.369592      0.000000  \n"
     ]
    }
   ],
   "source": [
    "X_new = X.drop(['ctx_footprint_no','ctx_sox2no', 'maxcons', 'sc_footprint_no','sc_sox2no'],1)\n",
    "print(X_new.head())"
   ]
  },
  {
   "cell_type": "code",
   "execution_count": 156,
   "metadata": {
    "collapsed": false
   },
   "outputs": [],
   "source": [
    "min_nonzero_ctx_dhs = min(X_new['ctx_dhs'][X_new['ctx_dhs']>0])\n",
    "min_nonzero_sc_dhs = min(X_new['sc_dhs'][X_new['sc_dhs']>0])\n",
    "dhs_fc = (X_new['sc_dhs']+min_nonzero_sc_dhs)/(X_new['ctx_dhs']+min_nonzero_ctx_dhs)\n",
    "                                              \n",
    "min_nonzero_ctx_sox2score = min(X_new['ctx_sox2score'][X_new['ctx_sox2score']>0])\n",
    "min_nonzero_sc_sox2score = min(X_new['sc_sox2score'][X_new['sc_sox2score']>0])\n",
    "sox2score_fc = (X_new['sc_sox2score']+min_nonzero_sc_sox2score)/(X_new['ctx_sox2score']+min_nonzero_ctx_sox2score)"
   ]
  },
  {
   "cell_type": "code",
   "execution_count": 157,
   "metadata": {
    "collapsed": false
   },
   "outputs": [],
   "source": [
    "X_new['dhs_log2fc'] = map(np.log2, dhs_fc)\n",
    "X_new['sox2_log2fc'] = map(np.log2, sox2score_fc)\n",
    "#X_new['ctx_dhs'] = np.log10(X_new['ctx_dhs'])\n",
    "#X_new['sc_dhs'] = np.log10(X_new['sc_dhs'])"
   ]
  },
  {
   "cell_type": "code",
   "execution_count": 158,
   "metadata": {
    "collapsed": false
   },
   "outputs": [
    {
     "data": {
      "text/html": [
       "<div>\n",
       "<table border=\"1\" class=\"dataframe\">\n",
       "  <thead>\n",
       "    <tr style=\"text-align: right;\">\n",
       "      <th></th>\n",
       "      <th>ctx_dhs</th>\n",
       "      <th>ctx_sox2score</th>\n",
       "      <th>hox</th>\n",
       "      <th>lhx</th>\n",
       "      <th>meancons</th>\n",
       "      <th>sc_dhs</th>\n",
       "      <th>sc_sox2score</th>\n",
       "      <th>dhs_log2fc</th>\n",
       "      <th>sox2_log2fc</th>\n",
       "    </tr>\n",
       "  </thead>\n",
       "  <tbody>\n",
       "    <tr>\n",
       "      <th>ENSMUSG00000046593</th>\n",
       "      <td>2355.995772</td>\n",
       "      <td>0.000000</td>\n",
       "      <td>0.241369</td>\n",
       "      <td>0.477784</td>\n",
       "      <td>0.699185</td>\n",
       "      <td>1721.959893</td>\n",
       "      <td>0.000000</td>\n",
       "      <td>-0.444487</td>\n",
       "      <td>0.528619</td>\n",
       "    </tr>\n",
       "    <tr>\n",
       "      <th>ENSMUSG00000037972</th>\n",
       "      <td>6248.353861</td>\n",
       "      <td>37.697030</td>\n",
       "      <td>0.447913</td>\n",
       "      <td>0.000000</td>\n",
       "      <td>0.911032</td>\n",
       "      <td>4697.475729</td>\n",
       "      <td>20.850813</td>\n",
       "      <td>-0.408900</td>\n",
       "      <td>-0.835422</td>\n",
       "    </tr>\n",
       "    <tr>\n",
       "      <th>ENSMUSG00000037973</th>\n",
       "      <td>2678.187637</td>\n",
       "      <td>21.523723</td>\n",
       "      <td>0.452227</td>\n",
       "      <td>10.677599</td>\n",
       "      <td>3.452806</td>\n",
       "      <td>1419.974254</td>\n",
       "      <td>0.000000</td>\n",
       "      <td>-0.899794</td>\n",
       "      <td>-5.599843</td>\n",
       "    </tr>\n",
       "    <tr>\n",
       "      <th>ENSMUSG00000053216</th>\n",
       "      <td>14688.977720</td>\n",
       "      <td>135.139718</td>\n",
       "      <td>0.326184</td>\n",
       "      <td>4.992649</td>\n",
       "      <td>7.681191</td>\n",
       "      <td>12665.480738</td>\n",
       "      <td>33.012300</td>\n",
       "      <td>-0.213216</td>\n",
       "      <td>-2.017161</td>\n",
       "    </tr>\n",
       "    <tr>\n",
       "      <th>ENSMUSG00000029510</th>\n",
       "      <td>6050.044463</td>\n",
       "      <td>15.087589</td>\n",
       "      <td>0.000000</td>\n",
       "      <td>4.460958</td>\n",
       "      <td>3.736538</td>\n",
       "      <td>5181.369592</td>\n",
       "      <td>0.000000</td>\n",
       "      <td>-0.222061</td>\n",
       "      <td>-5.096048</td>\n",
       "    </tr>\n",
       "  </tbody>\n",
       "</table>\n",
       "</div>"
      ],
      "text/plain": [
       "                         ctx_dhs  ctx_sox2score       hox        lhx  \\\n",
       "ENSMUSG00000046593   2355.995772       0.000000  0.241369   0.477784   \n",
       "ENSMUSG00000037972   6248.353861      37.697030  0.447913   0.000000   \n",
       "ENSMUSG00000037973   2678.187637      21.523723  0.452227  10.677599   \n",
       "ENSMUSG00000053216  14688.977720     135.139718  0.326184   4.992649   \n",
       "ENSMUSG00000029510   6050.044463      15.087589  0.000000   4.460958   \n",
       "\n",
       "                    meancons        sc_dhs  sc_sox2score  dhs_log2fc  \\\n",
       "ENSMUSG00000046593  0.699185   1721.959893      0.000000   -0.444487   \n",
       "ENSMUSG00000037972  0.911032   4697.475729     20.850813   -0.408900   \n",
       "ENSMUSG00000037973  3.452806   1419.974254      0.000000   -0.899794   \n",
       "ENSMUSG00000053216  7.681191  12665.480738     33.012300   -0.213216   \n",
       "ENSMUSG00000029510  3.736538   5181.369592      0.000000   -0.222061   \n",
       "\n",
       "                    sox2_log2fc  \n",
       "ENSMUSG00000046593     0.528619  \n",
       "ENSMUSG00000037972    -0.835422  \n",
       "ENSMUSG00000037973    -5.599843  \n",
       "ENSMUSG00000053216    -2.017161  \n",
       "ENSMUSG00000029510    -5.096048  "
      ]
     },
     "execution_count": 158,
     "metadata": {},
     "output_type": "execute_result"
    }
   ],
   "source": [
    "X_new.head()"
   ]
  },
  {
   "cell_type": "markdown",
   "metadata": {},
   "source": [
    "<h4>Re-divide dataset</h4>"
   ]
  },
  {
   "cell_type": "code",
   "execution_count": 159,
   "metadata": {
    "collapsed": true
   },
   "outputs": [],
   "source": [
    "X_train, X_test, y_train, y_test = cross_validation.train_test_split(X_new, y, test_size=0.3, random_state=42)\n",
    "X_tr, X_val, y_tr, y_val = cross_validation.train_test_split(X_train, y_train, test_size=0.3, random_state=53)"
   ]
  },
  {
   "cell_type": "markdown",
   "metadata": {},
   "source": [
    "<h4>Random forest, lasso and gradient boosting on the new dataset</h4>"
   ]
  },
  {
   "cell_type": "code",
   "execution_count": 160,
   "metadata": {
    "collapsed": false
   },
   "outputs": [
    {
     "name": "stdout",
     "output_type": "stream",
     "text": [
      "Random forest training set variance score: 0.32\n",
      "Random forest validation set variance score: 0.21\n",
      "Lasso training set variance score: 0.15\n",
      "Lasso validation set variance score: 0.20\n",
      "Gradient boosting training set variance score: 0.58\n",
      "Gradient boosting validation set variance score: 0.25\n"
     ]
    }
   ],
   "source": [
    "rf = ensemble.RandomForestRegressor(n_estimators=500, oob_score=True, max_features='sqrt', max_depth=5)\n",
    "rf.fit(X_tr, y_tr)\n",
    "lm = linear_model.Lasso()\n",
    "lm.fit(X_tr, y_tr)\n",
    "clf = ensemble.GradientBoostingRegressor(**params)\n",
    "clf.fit(X_tr, y_tr)\n",
    "\n",
    "print('Random forest training set variance score: %.2f' % rf.score(X_tr, y_tr))\n",
    "print('Random forest validation set variance score: %.2f' % rf.score(X_val, y_val))\n",
    "print('Lasso training set variance score: %.2f' % lm.score(X_tr, y_tr))\n",
    "print('Lasso validation set variance score: %.2f' % lm.score(X_val, y_val))\n",
    "print('Gradient boosting training set variance score: %.2f' % clf.score(X_tr, y_tr))\n",
    "print('Gradient boosting validation set variance score: %.2f' % clf.score(X_val, y_val))"
   ]
  },
  {
   "cell_type": "markdown",
   "metadata": {},
   "source": [
    "Gradient boosting wins! Let's look at the most important parameters in that model."
   ]
  },
  {
   "cell_type": "code",
   "execution_count": 161,
   "metadata": {
    "collapsed": false
   },
   "outputs": [
    {
     "data": {
      "image/png": "[encoded data removed]",
      "text/plain": [
       "<matplotlib.figure.Figure at 0x11149b590>"
      ]
     },
     "metadata": {},
     "output_type": "display_data"
    }
   ],
   "source": [
    "plot_feat_imp(clf, X_tr.columns)"
   ]
  },
  {
   "cell_type": "markdown",
   "metadata": {},
   "source": [
    "Now for the final test: Will the model work on the held-out test set too?"
   ]
  },
  {
   "cell_type": "code",
   "execution_count": 171,
   "metadata": {
    "collapsed": false
   },
   "outputs": [
    {
     "name": "stdout",
     "output_type": "stream",
     "text": [
      "Gradient boosting test set variance score: 0.14\n"
     ]
    }
   ],
   "source": [
    "print('Gradient boosting test set variance score: %.2f' % clf.score(X_test, y_test))"
   ]
  },
  {
   "cell_type": "markdown",
   "metadata": {},
   "source": [
    "Not really ..."
   ]
  },
  {
   "cell_type": "code",
   "execution_count": 178,
   "metadata": {
    "collapsed": false
   },
   "outputs": [
    {
     "data": {
      "text/plain": [
       "ctx_dhs          0.012724\n",
       "ctx_sox2score    0.005466\n",
       "hox              0.012988\n",
       "lhx              0.001718\n",
       "meancons         0.007437\n",
       "sc_dhs           0.000072\n",
       "sc_sox2score     0.031715\n",
       "dhs_log2fc       0.139005\n",
       "sox2_log2fc      0.037022\n",
       "target           1.000000\n",
       "Name: target, dtype: float64"
      ]
     },
     "execution_count": 178,
     "metadata": {},
     "output_type": "execute_result"
    }
   ],
   "source": [
    "x = X_new\n",
    "x['target'] = y\n",
    "np.square(x.corr())['target']"
   ]
  },
  {
   "cell_type": "code",
   "execution_count": null,
   "metadata": {
    "collapsed": true
   },
   "outputs": [],
   "source": []
  }
 ],
 "metadata": {
  "kernelspec": {
   "display_name": "Python 2",
   "language": "python",
   "name": "python2"
  },
  "language_info": {
   "codemirror_mode": {
    "name": "ipython",
    "version": 2
   },
   "file_extension": ".py",
   "mimetype": "text/x-python",
   "name": "python",
   "nbconvert_exporter": "python",
   "pygments_lexer": "ipython2",
   "version": "2.7.10"
  }
 },
 "nbformat": 4,
 "nbformat_minor": 0
}
